{
 "cells": [
  {
   "cell_type": "markdown",
   "id": "62325fd2",
   "metadata": {},
   "source": [
    "# Modelling the emergence of seizures in the brain\n",
    "I want to model out an abstraction of the emergence of seizures in the brain to try and develop my intuition for this network and as an introduction to computational neuroscience.\n",
    "\n",
    "I have already looked, briefly, at mathematical percolation (https://youtu.be/a-767WnbaCQ?si=73i8cgjbz-zR8Q7W) and this may inform my intuitions."
   ]
  },
  {
   "cell_type": "markdown",
   "id": "510e7ac9",
   "metadata": {},
   "source": [
    "## Model 1: Probabilities"
   ]
  }
 ],
 "metadata": {
  "language_info": {
   "name": "python"
  }
 },
 "nbformat": 4,
 "nbformat_minor": 5
}
