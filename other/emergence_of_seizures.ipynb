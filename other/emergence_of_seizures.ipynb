{
  "cells": [
    {
      "cell_type": "markdown",
      "metadata": {
        "id": "view-in-github",
        "colab_type": "text"
      },
      "source": [
        "<a href=\"https://colab.research.google.com/github/SchmetterlingIII/physics-maths/blob/main/other/emergence_of_seizures.ipynb\" target=\"_parent\"><img src=\"https://colab.research.google.com/assets/colab-badge.svg\" alt=\"Open In Colab\"/></a>"
      ]
    },
    {
      "cell_type": "markdown",
      "id": "62325fd2",
      "metadata": {
        "id": "62325fd2"
      },
      "source": [
        "# Modelling the emergence of seizures in the brain\n",
        "I want to model out an abstraction of the emergence of seizures in the brain to try and develop my intuition for this network and as an introduction to computational neuroscience.\n",
        "\n",
        "I have already looked, briefly, at mathematical percolation (https://youtu.be/a-767WnbaCQ?si=73i8cgjbz-zR8Q7W) and this may inform my intuitions."
      ]
    },
    {
      "cell_type": "markdown",
      "id": "510e7ac9",
      "metadata": {
        "id": "510e7ac9"
      },
      "source": [
        "## Model 1: Probabilities\n",
        "\n",
        "This model will be entirely from my own intuition of what is happening in the brain and my understanding of seizures. I will spend 2 days working on this so that I can deeply review this outlook later."
      ]
    },
    {
      "cell_type": "code",
      "source": [
        "pip install networkx"
      ],
      "metadata": {
        "id": "XQc3Hod0bR2D",
        "outputId": "9863021d-4bb1-46b1-c56e-610532b67ab5",
        "colab": {
          "base_uri": "https://localhost:8080/"
        }
      },
      "id": "XQc3Hod0bR2D",
      "execution_count": 9,
      "outputs": [
        {
          "output_type": "stream",
          "name": "stdout",
          "text": [
            "Requirement already satisfied: networkx in /usr/local/lib/python3.12/dist-packages (3.5)\n"
          ]
        }
      ]
    },
    {
      "cell_type": "code",
      "source": [
        "import matplotlib.pyplot as plt\n",
        "import numpy as np\n",
        "import networkx as nx"
      ],
      "metadata": {
        "id": "HDGpz4VcVKso"
      },
      "id": "HDGpz4VcVKso",
      "execution_count": 1,
      "outputs": []
    },
    {
      "cell_type": "markdown",
      "source": [
        "I will produce a generalised mapping of $n \\times n$ grid of nodes which will be connected by a quiver joining them together (acting as the edge)."
      ],
      "metadata": {
        "id": "8Utig_wOVPWA"
      },
      "id": "8Utig_wOVPWA"
    },
    {
      "cell_type": "code",
      "source": [
        "fig, ax = plt.subplots(figsize=(5,5))\n",
        "\n",
        "''' The boundaries of this set is the unit square of length 1 '''\n",
        "n = 3\n",
        "\n",
        "''' Inefficient function that makes the relations between each position pretty obscure '''\n",
        "positions = [(0,0)]\n",
        "for i in range(n-1):\n",
        "    prev_pos = positions[-1]\n",
        "    new_pos = (prev_pos[0], (prev_pos[1] + (1/(n-1))))\n",
        "    positions.append(new_pos)\n",
        "\n",
        "for i in range(n-1):\n",
        "    pos_above = (positions[i][0] + 1/(n-1), positions[i][1])\n",
        "    positions.append(pos_above)\n",
        "\n",
        "pos = np.array(positions)\n",
        "print(pos)\n",
        "ax.scatter(pos[:, 0], pos[:, 1])\n"
      ],
      "metadata": {
        "colab": {
          "base_uri": "https://localhost:8080/",
          "height": 549
        },
        "id": "UYHDJAogVlF9",
        "outputId": "31283b99-a950-49c3-9e00-79f966811c4a"
      },
      "id": "UYHDJAogVlF9",
      "execution_count": 8,
      "outputs": [
        {
          "output_type": "stream",
          "name": "stdout",
          "text": [
            "[[0.  0. ]\n",
            " [0.  0.5]\n",
            " [0.  1. ]\n",
            " [0.5 0. ]\n",
            " [0.5 0.5]]\n"
          ]
        },
        {
          "output_type": "execute_result",
          "data": {
            "text/plain": [
              "<matplotlib.collections.PathCollection at 0x7830fa05fdd0>"
            ]
          },
          "metadata": {},
          "execution_count": 8
        },
        {
          "output_type": "display_data",
          "data": {
            "text/plain": [
              "<Figure size 500x500 with 1 Axes>"
            ],
            "image/png": "[encoded data removed]"
          },
          "metadata": {}
        }
      ]
    },
    {
      "cell_type": "markdown",
      "source": [
        "Although the above was successful in printing off the points, it is not a searchable structure and the relationships between the nodes are pretty obscure. I will read into graph theory (or just how they are stored) so that I can define the boundaries (and the limits of interactions) between the different nodes.\n"
      ],
      "metadata": {
        "id": "Kduo3RbqYB-E"
      },
      "id": "Kduo3RbqYB-E"
    },
    {
      "cell_type": "markdown",
      "source": [
        "#### NetworkX & Exploration\n",
        "Given I need this exploration to be my own, I will spend a lot of time writing up what my specific intentions are and - given learning a new module in Python is unrealistic in two days - I will supplement my understanding of seizures with models that are coursework-based."
      ],
      "metadata": {
        "id": "jgmDe0ledQlW"
      },
      "id": "jgmDe0ledQlW"
    }
  ],
  "metadata": {
    "language_info": {
      "name": "python"
    },
    "colab": {
      "provenance": [],
      "include_colab_link": true
    },
    "kernelspec": {
      "name": "python3",
      "display_name": "Python 3"
    }
  },
  "nbformat": 4,
  "nbformat_minor": 5
}