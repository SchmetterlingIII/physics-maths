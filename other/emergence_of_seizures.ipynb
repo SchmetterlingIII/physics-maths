{
  "cells": [
    {
      "cell_type": "markdown",
      "metadata": {
        "id": "view-in-github",
        "colab_type": "text"
      },
      "source": [
        "<a href=\"https://colab.research.google.com/github/SchmetterlingIII/physics-maths/blob/main/other/emergence_of_seizures.ipynb\" target=\"_parent\"><img src=\"https://colab.research.google.com/assets/colab-badge.svg\" alt=\"Open In Colab\"/></a>"
      ]
    },
    {
      "cell_type": "markdown",
      "id": "62325fd2",
      "metadata": {
        "id": "62325fd2"
      },
      "source": [
        "# Modelling the emergence of seizures in the brain\n",
        "I want to model out an abstraction of the emergence of seizures in the brain to try and develop my intuition for this network and as an introduction to computational neuroscience.\n",
        "\n",
        "I have already looked, briefly, at mathematical percolation (https://youtu.be/a-767WnbaCQ?si=73i8cgjbz-zR8Q7W) and this may inform my intuitions."
      ]
    },
    {
      "cell_type": "markdown",
      "source": [
        "# What are seizures?\n",
        "*Before going into deep into modelling seizures, it would be best if I actually understand what they are in some formalised form before I progress into the model.*\n",
        "\n",
        "Seizures occur when there is abnormal, excessive or synchronous electrical activity in the brain. Seizures are either focal or generalised depending on whether they stay at one point in the brain or spread to other parts and produce"
      ],
      "metadata": {
        "id": "WBOcZ9k6dPgS"
      },
      "id": "WBOcZ9k6dPgS"
    }
  ],
  "metadata": {
    "language_info": {
      "name": "python"
    },
    "colab": {
      "provenance": [],
      "include_colab_link": true
    },
    "kernelspec": {
      "name": "python3",
      "display_name": "Python 3"
    }
  },
  "nbformat": 4,
  "nbformat_minor": 5
}