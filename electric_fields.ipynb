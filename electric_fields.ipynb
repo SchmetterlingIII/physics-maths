{
 "cells": [
  {
   "cell_type": "markdown",
   "id": "96c2e324",
   "metadata": {},
   "source": [
    "empty sutff"
   ]
  }
 ],
 "metadata": {
  "language_info": {
   "name": "python"
  }
 },
 "nbformat": 4,
 "nbformat_minor": 5
}
